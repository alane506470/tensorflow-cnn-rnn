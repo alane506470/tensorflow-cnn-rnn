{
 "cells": [
  {
   "cell_type": "code",
   "execution_count": 1,
   "metadata": {},
   "outputs": [],
   "source": [
    "import tensorflow as tf\n"
   ]
  },
  {
   "cell_type": "code",
   "execution_count": 2,
   "metadata": {},
   "outputs": [
    {
     "ename": "AttributeError",
     "evalue": "module 'tensorflow_core.keras.metrics' has no attribute 'Accurcy'",
     "output_type": "error",
     "traceback": [
      "\u001b[1;31m---------------------------------------------------------------------------\u001b[0m",
      "\u001b[1;31mAttributeError\u001b[0m                            Traceback (most recent call last)",
      "\u001b[1;32m<ipython-input-2-396388018a6e>\u001b[0m in \u001b[0;36m<module>\u001b[1;34m\u001b[0m\n\u001b[1;32m----> 1\u001b[1;33m \u001b[0mModel_acc\u001b[0m \u001b[1;33m=\u001b[0m \u001b[0mtf\u001b[0m\u001b[1;33m.\u001b[0m\u001b[0mkeras\u001b[0m\u001b[1;33m.\u001b[0m\u001b[0mmetrics\u001b[0m\u001b[1;33m.\u001b[0m\u001b[0mAccurcy\u001b[0m\u001b[1;33m(\u001b[0m\u001b[1;33m)\u001b[0m\u001b[1;33m\u001b[0m\u001b[1;33m\u001b[0m\u001b[0m\n\u001b[0m",
      "\u001b[1;31mAttributeError\u001b[0m: module 'tensorflow_core.keras.metrics' has no attribute 'Accurcy'"
     ]
    }
   ],
   "source": [
    "#模型衡量指標\n",
    "Model_acc = tf.keras.metrics.Accurcy()\n",
    "#or\n",
    "Model_mean = tf.keras.metrics.Mean()"
   ]
  },
  {
   "cell_type": "code",
   "execution_count": null,
   "metadata": {},
   "outputs": [],
   "source": [
    "#update或者增加裡面的數值\n",
    "Model_acc.update_state(y,pred)\n",
    "#or\n",
    "Model_mean.update_state(current_loss)"
   ]
  },
  {
   "cell_type": "code",
   "execution_count": 3,
   "metadata": {},
   "outputs": [
    {
     "ename": "NameError",
     "evalue": "name 'step' is not defined",
     "output_type": "error",
     "traceback": [
      "\u001b[1;31m---------------------------------------------------------------------------\u001b[0m",
      "\u001b[1;31mNameError\u001b[0m                                 Traceback (most recent call last)",
      "\u001b[1;32m<ipython-input-3-a14b89cec068>\u001b[0m in \u001b[0;36m<module>\u001b[1;34m\u001b[0m\n\u001b[0;32m      1\u001b[0m \u001b[1;31m#打印，training steps\u001b[0m\u001b[1;33m\u001b[0m\u001b[1;33m\u001b[0m\u001b[1;33m\u001b[0m\u001b[0m\n\u001b[1;32m----> 2\u001b[1;33m print(step,'Train_loss',Model_mean.result().numpy(),'Train_Acc',\n\u001b[0m\u001b[0;32m      3\u001b[0m       Model_acc.result().numpy())\n",
      "\u001b[1;31mNameError\u001b[0m: name 'step' is not defined"
     ]
    }
   ],
   "source": [
    "#打印，training steps\n",
    "print(step,'Train_loss',Model_mean.result().numpy(),'Train_Acc',\n",
    "      Model_acc.result().numpy())\n"
   ]
  },
  {
   "cell_type": "code",
   "execution_count": 4,
   "metadata": {},
   "outputs": [
    {
     "ename": "NameError",
     "evalue": "name 'Model_mean' is not defined",
     "output_type": "error",
     "traceback": [
      "\u001b[1;31m---------------------------------------------------------------------------\u001b[0m",
      "\u001b[1;31mNameError\u001b[0m                                 Traceback (most recent call last)",
      "\u001b[1;32m<ipython-input-4-80e3d58dc312>\u001b[0m in \u001b[0;36m<module>\u001b[1;34m\u001b[0m\n\u001b[0;32m      1\u001b[0m \u001b[1;31m#每個epoch跑完要清楚裡面的數值時\u001b[0m\u001b[1;33m\u001b[0m\u001b[1;33m\u001b[0m\u001b[1;33m\u001b[0m\u001b[0m\n\u001b[1;32m----> 2\u001b[1;33m \u001b[0mModel_mean\u001b[0m\u001b[1;33m.\u001b[0m\u001b[0mreset_states\u001b[0m\u001b[1;33m(\u001b[0m\u001b[1;33m)\u001b[0m\u001b[1;33m\u001b[0m\u001b[1;33m\u001b[0m\u001b[0m\n\u001b[0m\u001b[0;32m      3\u001b[0m \u001b[0mModel_acc\u001b[0m\u001b[1;33m.\u001b[0m\u001b[0mreset_states\u001b[0m\u001b[1;33m(\u001b[0m\u001b[1;33m)\u001b[0m\u001b[1;33m\u001b[0m\u001b[1;33m\u001b[0m\u001b[0m\n",
      "\u001b[1;31mNameError\u001b[0m: name 'Model_mean' is not defined"
     ]
    }
   ],
   "source": [
    "#每個epoch跑完要清楚裡面的數值時\n",
    "Model_mean.reset_states()\n",
    "Model_acc.reset_states()"
   ]
  },
  {
   "cell_type": "code",
   "execution_count": 5,
   "metadata": {},
   "outputs": [],
   "source": [
    "#Model define\n",
    "def defModel():\n",
    "    model = tf.keras.Sequential([\n",
    "        tf.keras.layer.Dense(256,activation=tf.nn.relu),\n",
    "        tf.keras.layer.Dense(128,activation=tf.nn.relu),\n",
    "        tf.keras.layer.Dense(64,activation=tf.nn.relu),\n",
    "        tf.keras.layer.Dense(32,activation=tf.nn.relu),\n",
    "        tf.keras.layer.Dense(16,activation=tf.nn.relu),\n",
    "        tf.keras.layer.Dense(10,activation=tf.nn.relu),\n",
    "    ])\n",
    "    model.build(input_shape=[-1,28*28])"
   ]
  },
  {
   "cell_type": "code",
   "execution_count": 6,
   "metadata": {},
   "outputs": [
    {
     "name": "stdout",
     "output_type": "stream",
     "text": [
      "WARNING:tensorflow:From <ipython-input-6-45e38c77d80a>:14: Layer.add_variable (from tensorflow.python.keras.engine.base_layer) is deprecated and will be removed in a future version.\n",
      "Instructions for updating:\n",
      "Please use `layer.add_weight` method instead.\n",
      "tf.Tensor(\n",
      "[[0. 0. 0. 0. 0. 0. 0. 0. 0. 0.]\n",
      " [0. 0. 0. 0. 0. 0. 0. 0. 0. 0.]\n",
      " [0. 0. 0. 0. 0. 0. 0. 0. 0. 0.]\n",
      " [0. 0. 0. 0. 0. 0. 0. 0. 0. 0.]\n",
      " [0. 0. 0. 0. 0. 0. 0. 0. 0. 0.]\n",
      " [0. 0. 0. 0. 0. 0. 0. 0. 0. 0.]\n",
      " [0. 0. 0. 0. 0. 0. 0. 0. 0. 0.]\n",
      " [0. 0. 0. 0. 0. 0. 0. 0. 0. 0.]\n",
      " [0. 0. 0. 0. 0. 0. 0. 0. 0. 0.]\n",
      " [0. 0. 0. 0. 0. 0. 0. 0. 0. 0.]], shape=(10, 10), dtype=float32)\n",
      "[<tf.Variable 'my_dense_layer/kernel:0' shape=(5, 10) dtype=float32, numpy=\n",
      "array([[ 0.2034043 ,  0.18420434, -0.39287674,  0.43923253,  0.6261112 ,\n",
      "         0.5854954 ,  0.5327197 , -0.24366787, -0.41884023,  0.5494589 ],\n",
      "       [-0.56275266, -0.08985358, -0.25577384,  0.29401016, -0.30582136,\n",
      "        -0.36751658,  0.326653  , -0.18266252, -0.21194878, -0.3832365 ],\n",
      "       [-0.17494196,  0.16795135,  0.2708012 , -0.10870785, -0.20037812,\n",
      "         0.50334686,  0.20505607, -0.5224633 , -0.5711825 ,  0.12377948],\n",
      "       [ 0.30575788, -0.5692993 , -0.03518635, -0.27355337, -0.33867347,\n",
      "        -0.18305832,  0.51668805,  0.02492708,  0.02434266, -0.33628723],\n",
      "       [ 0.18227875,  0.16367197, -0.5992953 , -0.5261502 ,  0.510166  ,\n",
      "        -0.2785282 ,  0.16663963, -0.44395792, -0.09058177, -0.48532045]],\n",
      "      dtype=float32)>]\n"
     ]
    }
   ],
   "source": [
    "#model.trainable_variables就可以拿取model中要train的variable (Ex: weight , bias等)。\n",
    "#custom layer，在實現init，call，build，要記得要繼承tf.keras.layer\n",
    "#init:初始化和繼承\n",
    "#call執行向前導向\n",
    "#build:輸入shape定義variable\n",
    "class MyDenseLayer(tf.keras.layers.Layer):\n",
    "  def __init__(self, num_outputs):\n",
    "    super(MyDenseLayer, self).__init__()\n",
    "    self.num_outputs = num_outputs\n",
    "\n",
    "  def build(self, input_shape):\n",
    "    self.kernel = self.add_variable(\"kernel\",\n",
    "                                    shape=[int(input_shape[-1]),\n",
    "                                           self.num_outputs])\n",
    "\n",
    "  def call(self, input):\n",
    "    return tf.matmul(input, self.kernel)\n",
    "\n",
    "layer = MyDenseLayer(10)\n",
    "print(layer(tf.zeros([10, 5])))\n",
    "print(layer.trainable_variables)"
   ]
  },
  {
   "cell_type": "code",
   "execution_count": null,
   "metadata": {},
   "outputs": [],
   "source": []
  }
 ],
 "metadata": {
  "kernelspec": {
   "display_name": "Python 3",
   "language": "python",
   "name": "python3"
  },
  "language_info": {
   "codemirror_mode": {
    "name": "ipython",
    "version": 3
   },
   "file_extension": ".py",
   "mimetype": "text/x-python",
   "name": "python",
   "nbconvert_exporter": "python",
   "pygments_lexer": "ipython3",
   "version": "3.7.6"
  }
 },
 "nbformat": 4,
 "nbformat_minor": 4
}
