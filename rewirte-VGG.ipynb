{
 "cells": [
  {
   "cell_type": "code",
   "execution_count": 2,
   "metadata": {},
   "outputs": [
    {
     "name": "stderr",
     "output_type": "stream",
     "text": [
      "D:\\ANACONDA\\envs\\ML\\lib\\site-packages\\tensorflow\\python\\framework\\dtypes.py:516: FutureWarning: Passing (type, 1) or '1type' as a synonym of type is deprecated; in a future version of numpy, it will be understood as (type, (1,)) / '(1,)type'.\n",
      "  _np_qint8 = np.dtype([(\"qint8\", np.int8, 1)])\n",
      "D:\\ANACONDA\\envs\\ML\\lib\\site-packages\\tensorflow\\python\\framework\\dtypes.py:517: FutureWarning: Passing (type, 1) or '1type' as a synonym of type is deprecated; in a future version of numpy, it will be understood as (type, (1,)) / '(1,)type'.\n",
      "  _np_quint8 = np.dtype([(\"quint8\", np.uint8, 1)])\n",
      "D:\\ANACONDA\\envs\\ML\\lib\\site-packages\\tensorflow\\python\\framework\\dtypes.py:518: FutureWarning: Passing (type, 1) or '1type' as a synonym of type is deprecated; in a future version of numpy, it will be understood as (type, (1,)) / '(1,)type'.\n",
      "  _np_qint16 = np.dtype([(\"qint16\", np.int16, 1)])\n",
      "D:\\ANACONDA\\envs\\ML\\lib\\site-packages\\tensorflow\\python\\framework\\dtypes.py:519: FutureWarning: Passing (type, 1) or '1type' as a synonym of type is deprecated; in a future version of numpy, it will be understood as (type, (1,)) / '(1,)type'.\n",
      "  _np_quint16 = np.dtype([(\"quint16\", np.uint16, 1)])\n",
      "D:\\ANACONDA\\envs\\ML\\lib\\site-packages\\tensorflow\\python\\framework\\dtypes.py:520: FutureWarning: Passing (type, 1) or '1type' as a synonym of type is deprecated; in a future version of numpy, it will be understood as (type, (1,)) / '(1,)type'.\n",
      "  _np_qint32 = np.dtype([(\"qint32\", np.int32, 1)])\n",
      "D:\\ANACONDA\\envs\\ML\\lib\\site-packages\\tensorflow\\python\\framework\\dtypes.py:525: FutureWarning: Passing (type, 1) or '1type' as a synonym of type is deprecated; in a future version of numpy, it will be understood as (type, (1,)) / '(1,)type'.\n",
      "  np_resource = np.dtype([(\"resource\", np.ubyte, 1)])\n",
      "D:\\ANACONDA\\envs\\ML\\lib\\site-packages\\tensorboard\\compat\\tensorflow_stub\\dtypes.py:541: FutureWarning: Passing (type, 1) or '1type' as a synonym of type is deprecated; in a future version of numpy, it will be understood as (type, (1,)) / '(1,)type'.\n",
      "  _np_qint8 = np.dtype([(\"qint8\", np.int8, 1)])\n",
      "D:\\ANACONDA\\envs\\ML\\lib\\site-packages\\tensorboard\\compat\\tensorflow_stub\\dtypes.py:542: FutureWarning: Passing (type, 1) or '1type' as a synonym of type is deprecated; in a future version of numpy, it will be understood as (type, (1,)) / '(1,)type'.\n",
      "  _np_quint8 = np.dtype([(\"quint8\", np.uint8, 1)])\n",
      "D:\\ANACONDA\\envs\\ML\\lib\\site-packages\\tensorboard\\compat\\tensorflow_stub\\dtypes.py:543: FutureWarning: Passing (type, 1) or '1type' as a synonym of type is deprecated; in a future version of numpy, it will be understood as (type, (1,)) / '(1,)type'.\n",
      "  _np_qint16 = np.dtype([(\"qint16\", np.int16, 1)])\n",
      "D:\\ANACONDA\\envs\\ML\\lib\\site-packages\\tensorboard\\compat\\tensorflow_stub\\dtypes.py:544: FutureWarning: Passing (type, 1) or '1type' as a synonym of type is deprecated; in a future version of numpy, it will be understood as (type, (1,)) / '(1,)type'.\n",
      "  _np_quint16 = np.dtype([(\"quint16\", np.uint16, 1)])\n",
      "D:\\ANACONDA\\envs\\ML\\lib\\site-packages\\tensorboard\\compat\\tensorflow_stub\\dtypes.py:545: FutureWarning: Passing (type, 1) or '1type' as a synonym of type is deprecated; in a future version of numpy, it will be understood as (type, (1,)) / '(1,)type'.\n",
      "  _np_qint32 = np.dtype([(\"qint32\", np.int32, 1)])\n",
      "D:\\ANACONDA\\envs\\ML\\lib\\site-packages\\tensorboard\\compat\\tensorflow_stub\\dtypes.py:550: FutureWarning: Passing (type, 1) or '1type' as a synonym of type is deprecated; in a future version of numpy, it will be understood as (type, (1,)) / '(1,)type'.\n",
      "  np_resource = np.dtype([(\"resource\", np.ubyte, 1)])\n"
     ]
    }
   ],
   "source": [
    "from tensorflow import keras\n",
    "import tensorflow as tf"
   ]
  },
  {
   "cell_type": "code",
   "execution_count": 4,
   "metadata": {},
   "outputs": [
    {
     "name": "stdout",
     "output_type": "stream",
     "text": [
      "(10000, 32, 32, 3) <class 'numpy.ndarray'>\n",
      "(10000, 1) <class 'numpy.ndarray'>\n"
     ]
    }
   ],
   "source": [
    "(x,y),(x_test,y_test) =tf.keras.datasets.cifar10.load_data()\n",
    "print(x_test.shape,type(x_test))\n",
    "print(y_test.shape,type(y_test))"
   ]
  },
  {
   "cell_type": "code",
   "execution_count": 6,
   "metadata": {},
   "outputs": [],
   "source": [
    "vgg_layers=[\n",
    "    tf.keras.layers.Conv2D(64,kernel_size=[3,3],padding='same',activation=tf.nn.relu),\n",
    "    tf.keras.layers.Conv2D(64,kernel_size=[3,3],padding='same',activation=tf.nn.relu),\n",
    "    tf.keras.layers.MaxPool2D(pool_size=[2,2],strides=2,padding='same'),\n",
    "    \n",
    "      #stack1\n",
    "     tf.keras.layers.Conv2D(128,kernel_size=[3,3],padding='same',activation=tf.nn.relu),\n",
    "     tf.keras.layers.Conv2D(128,kernel_size=[3,3],padding='same',activation=tf.nn.relu),\n",
    "     tf.keras.layers.MaxPool2D(pool_size=[2,2],strides=2,padding='same'),\n",
    "    \n",
    "      #stack1\n",
    "     tf.keras.layers.Conv2D(128,kernel_size=[3,3],padding='same',activation=tf.nn.relu),\n",
    "     tf.keras.layers.Conv2D(128,kernel_size=[3,3],padding='same',activation=tf.nn.relu),\n",
    "     tf.keras.layers.MaxPool2D(pool_size=[2,2],strides=2,padding='same'),\n",
    "    \n",
    "     tf.keras.layers.Conv2D(256,kernel_size=[3,3],padding='same',activation=tf.nn.relu),\n",
    "     tf.keras.layers.Conv2D(256,kernel_size=[3,3],padding='same',activation=tf.nn.relu),\n",
    "     tf.keras.layers.Conv2D(256,kernel_size=[3,3],padding='same',activation=tf.nn.relu),\n",
    "     tf.keras.layers.MaxPool2D(pool_size=[2,2],strides=2,padding='same'),\n",
    "    \n",
    "      tf.keras.layers.Conv2D(512,kernel_size=[3,3],padding='same',activation=tf.nn.relu),\n",
    "     tf.keras.layers.Conv2D(512,kernel_size=[3,3],padding='same',activation=tf.nn.relu),\n",
    "     tf.keras.layers.Conv2D(512,kernel_size=[3,3],padding='same',activation=tf.nn.relu),\n",
    "     tf.keras.layers.MaxPool2D(pool_size=[2,2],strides=2,padding='same'),\n",
    "]\n",
    "\n",
    "fc_layers=[\n",
    "    tf.keras.layers.Dense(256,activation=tf.nn.relu),\n",
    "    tf.keras.layers.Dense(256,activation=tf.nn.relu),\n",
    "    tf.keras.layers.Dense(10,activation=None)\n",
    "]"
   ]
  },
  {
   "cell_type": "code",
   "execution_count": null,
   "metadata": {},
   "outputs": [],
   "source": [
    "d"
   ]
  },
  {
   "cell_type": "code",
   "execution_count": 7,
   "metadata": {},
   "outputs": [],
   "source": [
    "vgg_model=tf.keras.Sequential(vgg_layers)\n",
    "vgg_model.build(input_shape=[None,32,32,3])\n",
    "fc_model=tf.keras.Sequential(fc_layers)\n",
    "fc_model.build(input_shape=[None,512])\n",
    "optimizer = tf.keras.optimizers.Adam(lr=1e-4)"
   ]
  },
  {
   "cell_type": "code",
   "execution_count": null,
   "metadata": {},
   "outputs": [],
   "source": []
  },
  {
   "cell_type": "code",
   "execution_count": 33,
   "metadata": {},
   "outputs": [
    {
     "name": "stdout",
     "output_type": "stream",
     "text": [
      "<class 'tensorflow.python.framework.ops.Tensor'>\n"
     ]
    }
   ],
   "source": [
    "def feature_scale(x,y):\n",
    "    x=tf.cast(x,tf.float32)/255.0\n",
    "    y=tf.cast(y,tf.int32)\n",
    "    print(type(x))\n",
    "    return x,y\n",
    "\n",
    "data = tf.data.Dataset.from_tensor_slices((x,y))\n",
    "data = data.map(feature_scale).shuffle(10000).batch(512)\n",
    "data_iter = iter(data)\n",
    "print(data_iter)\n",
    "samples = next(data_iter)\n",
    "print(samples)"
   ]
  },
  {
   "cell_type": "code",
   "execution_count": 31,
   "metadata": {},
   "outputs": [
    {
     "name": "stdout",
     "output_type": "stream",
     "text": [
      "<class 'tensorflow.python.framework.ops.Tensor'>\n",
      "0\n",
      "(512, 32, 32, 3)\n",
      "(512, 1)\n",
      "(512, 1, 1, 512) <class 'tensorflow.python.framework.ops.EagerTensor'>\n",
      "(512, 1, 1, 10) <class 'tensorflow.python.framework.ops.EagerTensor'>\n",
      "(512, 1, 512) <class 'tensorflow.python.framework.tensor_shape.TensorShape'>\n",
      "tf.Tensor(5.22472e-06, shape=(), dtype=float32)\n",
      "() <class 'tensorflow.python.framework.ops.EagerTensor'>\n",
      "0 0 loss 5.224720098340185e-06\n",
      "0\n",
      "(512, 32, 32, 3)\n",
      "(512, 1)\n",
      "(512, 1, 1, 512) <class 'tensorflow.python.framework.ops.EagerTensor'>\n",
      "(512, 1, 1, 10) <class 'tensorflow.python.framework.ops.EagerTensor'>\n",
      "(512, 1, 512) <class 'tensorflow.python.framework.tensor_shape.TensorShape'>\n",
      "tf.Tensor(5.22472e-06, shape=(), dtype=float32)\n",
      "() <class 'tensorflow.python.framework.ops.EagerTensor'>\n",
      "1 0 loss 5.224720098340185e-06\n",
      "0\n",
      "(512, 32, 32, 3)\n",
      "(512, 1)\n",
      "(512, 1, 1, 512) <class 'tensorflow.python.framework.ops.EagerTensor'>\n",
      "(512, 1, 1, 10) <class 'tensorflow.python.framework.ops.EagerTensor'>\n",
      "(512, 1, 512) <class 'tensorflow.python.framework.tensor_shape.TensorShape'>\n",
      "tf.Tensor(5.22472e-06, shape=(), dtype=float32)\n",
      "() <class 'tensorflow.python.framework.ops.EagerTensor'>\n",
      "2 0 loss 5.224720098340185e-06\n",
      "0\n",
      "(512, 32, 32, 3)\n",
      "(512, 1)\n",
      "(512, 1, 1, 512) <class 'tensorflow.python.framework.ops.EagerTensor'>\n",
      "(512, 1, 1, 10) <class 'tensorflow.python.framework.ops.EagerTensor'>\n",
      "(512, 1, 512) <class 'tensorflow.python.framework.tensor_shape.TensorShape'>\n",
      "tf.Tensor(5.22472e-06, shape=(), dtype=float32)\n",
      "() <class 'tensorflow.python.framework.ops.EagerTensor'>\n",
      "3 0 loss 5.224720098340185e-06\n",
      "0\n",
      "(512, 32, 32, 3)\n",
      "(512, 1)\n",
      "(512, 1, 1, 512) <class 'tensorflow.python.framework.ops.EagerTensor'>\n",
      "(512, 1, 1, 10) <class 'tensorflow.python.framework.ops.EagerTensor'>\n",
      "(512, 1, 512) <class 'tensorflow.python.framework.tensor_shape.TensorShape'>\n",
      "tf.Tensor(5.22472e-06, shape=(), dtype=float32)\n",
      "() <class 'tensorflow.python.framework.ops.EagerTensor'>\n",
      "4 0 loss 5.224720098340185e-06\n"
     ]
    }
   ],
   "source": [
    "\n",
    "variables = vgg_model.variables+fc_model.variables\n",
    "for i in range(5):\n",
    "    for step,(x,y) in enumerate(data):\n",
    "        with tf.GradientTape() as tape:\n",
    "            print(step)\n",
    "            print(x.shape)\n",
    "            print(y.shape)\n",
    "            vgg_output=vgg_model(x)\n",
    "            print(vgg_output.shape,type(vgg_output))\n",
    "            fc_output = fc_model(vgg_output)\n",
    "            print(fc_output.shape,type(fc_output))\n",
    "            #print(fc_output)\n",
    "            loss=tf.losses.categorical_crossentropy(y,fc_output)\n",
    "            print(loss.shape,type(loss.shape))\n",
    "            loss_mean = tf.reduce_mean(loss)\n",
    "            print(loss_mean)\n",
    "            print(loss_mean.shape,type(loss_mean))\n",
    "        grads=tape.gradient(loss,variables)\n",
    "        #print(grads)\n",
    "        optimizer.apply_gradients(zip(grads,variables))\n",
    "        if step%10 ==0:\n",
    "            print(i,step,'loss',float(loss_mean))"
   ]
  },
  {
   "cell_type": "code",
   "execution_count": 34,
   "metadata": {},
   "outputs": [
    {
     "name": "stdout",
     "output_type": "stream",
     "text": [
      "0\n",
      "0\n",
      "0\n",
      "0\n",
      "0\n"
     ]
    }
   ],
   "source": [
    "for i in range(2):\n",
    "    for step,(x,y) in enumerate(data):\n",
    "        with tf.GradientTape() as tape:\n",
    "            print(step)"
   ]
  },
  {
   "cell_type": "code",
   "execution_count": null,
   "metadata": {},
   "outputs": [],
   "source": []
  }
 ],
 "metadata": {
  "kernelspec": {
   "display_name": "Python 3",
   "language": "python",
   "name": "python3"
  },
  "language_info": {
   "codemirror_mode": {
    "name": "ipython",
    "version": 3
   },
   "file_extension": ".py",
   "mimetype": "text/x-python",
   "name": "python",
   "nbconvert_exporter": "python",
   "pygments_lexer": "ipython3",
   "version": "3.7.6"
  }
 },
 "nbformat": 4,
 "nbformat_minor": 4
}
