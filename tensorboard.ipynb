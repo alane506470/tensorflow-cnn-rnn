{
 "cells": [
  {
   "cell_type": "code",
   "execution_count": null,
   "metadata": {},
   "outputs": [],
   "source": [
    "import pandas as pd\n",
    "import tensorflow as tf\n",
    "import os\n",
    "import datetime\n",
    "from tensorflow import keras\n",
    "from tensorflow.keras import optimizers\n",
    "import matplotlib.pyplot as plt\n",
    "import numpy as np\n",
    "from PIL import Image\n",
    "from numpy import asarray\n",
    "from matplotlib import pyplot"
   ]
  },
  {
   "cell_type": "code",
   "execution_count": null,
   "metadata": {},
   "outputs": [],
   "source": [
    "fashion_mnist = tf.keras.datasets.fashion_mnist"
   ]
  },
  {
   "cell_type": "code",
   "execution_count": null,
   "metadata": {},
   "outputs": [],
   "source": [
    "(x_train,y_train),(x_test,y_test) = fashion_mnist.load_data()\n",
    "print(x_train.shape)\n",
    "print(y_train.shape)\n",
    "print(type(x_test))"
   ]
  },
  {
   "cell_type": "code",
   "execution_count": 1,
   "metadata": {},
   "outputs": [
    {
     "ename": "NameError",
     "evalue": "name 'Image' is not defined",
     "output_type": "error",
     "traceback": [
      "\u001b[1;31m---------------------------------------------------------------------------\u001b[0m",
      "\u001b[1;31mNameError\u001b[0m                                 Traceback (most recent call last)",
      "\u001b[1;32m<ipython-input-1-342273234950>\u001b[0m in \u001b[0;36m<module>\u001b[1;34m\u001b[0m\n\u001b[1;32m----> 1\u001b[1;33m \u001b[0mimage\u001b[0m \u001b[1;33m=\u001b[0m \u001b[0mImage\u001b[0m\u001b[1;33m.\u001b[0m\u001b[0mopen\u001b[0m\u001b[1;33m(\u001b[0m\u001b[1;34m\"pants2.png\"\u001b[0m\u001b[1;33m)\u001b[0m\u001b[1;33m\u001b[0m\u001b[1;33m\u001b[0m\u001b[0m\n\u001b[0m\u001b[0;32m      2\u001b[0m \u001b[1;31m#pyplot.imshow(image)\u001b[0m\u001b[1;33m\u001b[0m\u001b[1;33m\u001b[0m\u001b[1;33m\u001b[0m\u001b[0m\n\u001b[0;32m      3\u001b[0m \u001b[0mdata\u001b[0m \u001b[1;33m=\u001b[0m \u001b[0masarray\u001b[0m\u001b[1;33m(\u001b[0m\u001b[0mimage\u001b[0m\u001b[1;33m)\u001b[0m\u001b[1;33m\u001b[0m\u001b[1;33m\u001b[0m\u001b[0m\n\u001b[0;32m      4\u001b[0m \u001b[0mprint\u001b[0m\u001b[1;33m(\u001b[0m\u001b[0mtype\u001b[0m\u001b[1;33m(\u001b[0m\u001b[0mdata\u001b[0m\u001b[1;33m)\u001b[0m\u001b[1;33m)\u001b[0m\u001b[1;33m\u001b[0m\u001b[1;33m\u001b[0m\u001b[0m\n\u001b[0;32m      5\u001b[0m \u001b[0mprint\u001b[0m\u001b[1;33m(\u001b[0m\u001b[0mdata\u001b[0m\u001b[1;33m.\u001b[0m\u001b[0mshape\u001b[0m\u001b[1;33m)\u001b[0m\u001b[1;33m\u001b[0m\u001b[1;33m\u001b[0m\u001b[0m\n",
      "\u001b[1;31mNameError\u001b[0m: name 'Image' is not defined"
     ]
    }
   ],
   "source": [
    "image = Image.open(\"pants2.png\")\n",
    "#pyplot.imshow(image)\n",
    "data = asarray(image)\n",
    "print(type(data))\n",
    "print(data.shape)\n",
    "print(data)\n",
    "testImage= np.resize(data,(1,28,28))\n",
    "print(testImage.shape)"
   ]
  },
  {
   "cell_type": "code",
   "execution_count": null,
   "metadata": {},
   "outputs": [],
   "source": [
    "x_train,x_test = x_train,x_test\n",
    "#print(x_train[:1],x_test.shape)\n"
   ]
  },
  {
   "cell_type": "code",
   "execution_count": null,
   "metadata": {},
   "outputs": [],
   "source": [
    "def create_model():\n",
    "    return tf.keras.models.Sequential([\n",
    "        tf.keras.layers.Flatten(input_shape=(28,28)),\n",
    "        tf.keras.layers.Dense(512,activation='relu'),\n",
    "        tf.keras.layers.Dropout(0.2),\n",
    "        tf.keras.layers.Dense(10,activation='softmax')\n",
    "    ])"
   ]
  },
  {
   "cell_type": "code",
   "execution_count": null,
   "metadata": {},
   "outputs": [],
   "source": [
    "def train_model():\n",
    "    model = create_model()\n",
    "    model.compile(optimizer='adam',\n",
    "                 loss='sparse_categorical_crossentropy',\n",
    "                 metrics=['accuracy'])\n",
    "    logdir = os.path.join(\"logs\",datetime.datetime.now().strftime(\"%Y%m%d-%H%M%S\"))\n",
    "    tensorboard_callback = tf.keras.callbacks.TensorBoard(logdir,histogram_freq=1)\n",
    "    history = model.fit(x=x_train,y=y_train,epochs=5,\n",
    "             callbacks=[tensorboard_callback])\n",
    "   # 評估模型\n",
    "    test_loss,test_acc= model.evaluate(x_test,y_test)\n",
    "    print(\"測試損失: %f,測試準確率: %f\"%(test_loss,test_acc))\n",
    "    #使用模型做預測\n",
    "    #tf.keras.models.save_model(model,'fashion.h5')\n",
    "    #a=0\n",
    "    #Training loss的話可以直接接在每一圈train完後，把資料結果輸出\n",
    "    #print(history.history['val_loss'])\n",
    "    #for i in history.history['val_loss']:\n",
    "        #with log_writer.as_default():\n",
    "            #a+=1\n",
    "            #tf.summary.scalar(\"training_loss\",float(i),step=a)\n",
    "class_names = ['短袖圓領T恤', '褲子', '套衫', '連衣裙', '外套',\n",
    "              '涼鞋', '襯衫', '運動鞋','包', '短靴']\n",
    "train_model()"
   ]
  },
  {
   "cell_type": "code",
   "execution_count": null,
   "metadata": {},
   "outputs": [],
   "source": [
    "%load_ext tensorboard\n",
    "%tensorboard --logdir logs"
   ]
  },
  {
   "cell_type": "code",
   "execution_count": null,
   "metadata": {},
   "outputs": [],
   "source": [
    "#print(x_train.values)\n",
    "\n",
    "c=[123,456,456,789]\n",
    "a=0\n",
    "for i in c:\n",
    "    with log_writer.as_default():\n",
    "        a+=1\n",
    "        print(i,a)\n",
    "            #tf.summary.scalar(\"training_loss\",float(i),step=++a)"
   ]
  },
  {
   "cell_type": "code",
   "execution_count": null,
   "metadata": {},
   "outputs": [],
   "source": [
    "logdir = os.path.join(\"logs\", datetime.datetime.now().strftime(\"%Y%m%d-%H%M%S\"))\n",
    "log_writer = tf.summary.create_file_writer(logdir)\n",
    "data_img= x_train[0]\n",
    "#data_img = data_img[0]\n",
    "data_img = tf.reshape(data_img,[1,28,28,1])\n",
    "with log_writer.as_default():\n",
    "    tf.summary.image(\"Training data 0:\",data_img,step=0)"
   ]
  },
  {
   "cell_type": "code",
   "execution_count": null,
   "metadata": {},
   "outputs": [],
   "source": [
    "#自訂畫圖fun\n",
    "def image_grid(images):\n",
    "    figure= plt.figure(figsize=(10,10))\n",
    "    for i in range(25):\n",
    "        plt.subplot(5,5,i+1,title=\"name\")\n",
    "        plt.imshow(images[i],cmap=plt.cm.binary)\n",
    "    return figure\n",
    "val_images =x_train[:25]\n",
    "print(val_images.shape)\n",
    "val_images = tf.reshape(val_images,[-1,28,28,1])\n",
    "print(val_images.shape)\n",
    "for i in range(1,25):\n",
    "    with log_writer.as_default():\n",
    "        tf.summary.image(\"val_images:\",val_images,max_outputs=25,step=i)\n",
    "        #val_images = tf.reshape(val_images,[-1,28,28])\n",
    "        #fig = image_grid(val_images)\n",
    "        #tf.summary.image('val_images:',plot_image(fig),step=i)"
   ]
  },
  {
   "cell_type": "code",
   "execution_count": null,
   "metadata": {},
   "outputs": [],
   "source": [
    "model = tf.keras.models.load_model('fashion.h5')\n",
    "predictions = model.predict(x_test)\n",
    "print(predictions[0])\n",
    "onlineImage = model.predict(testImage)\n",
    "print(\"預測: %s\" % (class_names[np.argmax(onlineImage[0])]))\n",
    "for i in range(25):\n",
    "    print(np.argmax(predictions[0]))\n",
    "    pre = class_names[np.argmax(predictions[i])]\n",
    "    tar = class_names[y_test[i]]\n",
    "    print(\"預測: %s  實際: %s\" %(pre,tar))"
   ]
  },
  {
   "cell_type": "code",
   "execution_count": null,
   "metadata": {},
   "outputs": [],
   "source": []
  }
 ],
 "metadata": {
  "kernelspec": {
   "display_name": "Python 3",
   "language": "python",
   "name": "python3"
  },
  "language_info": {
   "codemirror_mode": {
    "name": "ipython",
    "version": 3
   },
   "file_extension": ".py",
   "mimetype": "text/x-python",
   "name": "python",
   "nbconvert_exporter": "python",
   "pygments_lexer": "ipython3",
   "version": "3.7.6"
  }
 },
 "nbformat": 4,
 "nbformat_minor": 4
}
