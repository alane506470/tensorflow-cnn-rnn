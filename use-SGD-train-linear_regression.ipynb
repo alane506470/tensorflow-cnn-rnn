{
 "cells": [
  {
   "cell_type": "code",
   "execution_count": 12,
   "metadata": {},
   "outputs": [],
   "source": [
    "import tensorflow as tf\n",
    "import numpy as np\n",
    "import matplotlib.pyplot as plt\n",
    "X=np.random.rand(50).astype(np.float32)\n",
    "Y=0.9*X+0.55\n",
    "W=tf.Variable(tf.random.normal([1]))\n",
    "b=tf.Variable(tf.random.normal([1]))"
   ]
  },
  {
   "cell_type": "code",
   "execution_count": 2,
   "metadata": {},
   "outputs": [],
   "source": [
    "def linear(x):\n",
    "    return W*x+b"
   ]
  },
  {
   "cell_type": "code",
   "execution_count": 7,
   "metadata": {},
   "outputs": [],
   "source": [
    "def mean_square(y_pred,y_true):\n",
    "    return tf.reduce_sum(tf.pow(y_pred-y_true,2))/50\n",
    "optimizer= tf.optimizers.SGD(0.5)"
   ]
  },
  {
   "cell_type": "code",
   "execution_count": 5,
   "metadata": {},
   "outputs": [],
   "source": [
    "def run_optimization():\n",
    "    with tf.GradientTape() as g:\n",
    "        pred = linear(X)\n",
    "        loss= mean_square(pred,Y)\n",
    "        \n",
    "    gradients = g.gradient(loss,[W,b])\n",
    "    optimizer.apply_gradients(zip(gradients,[W,b]))"
   ]
  },
  {
   "cell_type": "code",
   "execution_count": 14,
   "metadata": {},
   "outputs": [
    {
     "name": "stdout",
     "output_type": "stream",
     "text": [
      "step: 20,loss:0.011062,W:0.517315,b:0.739234\n",
      "step: 40,loss:0.000904,W:0.790611,b:0.604092\n",
      "step: 60,loss:0.000074,W:0.868732,b:0.565462\n",
      "step: 80,loss:0.000006,W:0.891062,b:0.554420\n"
     ]
    }
   ],
   "source": [
    "for step in range(1,100):\n",
    "    run_optimization()\n",
    "    if step % 20 ==0:\n",
    "        pred = linear(X)\n",
    "        loss = mean_square(pred, Y)\n",
    "        print(\"step: %i,loss:%f,W:%f,b:%f\"% (step,loss,W.numpy(),b.numpy()))"
   ]
  },
  {
   "cell_type": "code",
   "execution_count": 15,
   "metadata": {},
   "outputs": [
    {
     "data": {
      "image/png": "[encoded data removed]",
      "text/plain": [
       "<Figure size 432x288 with 1 Axes>"
      ]
     },
     "metadata": {
      "needs_background": "light"
     },
     "output_type": "display_data"
    }
   ],
   "source": [
    "plt.plot(X,Y,'ro')\n",
    "plt.plot(X,np.array(W*X+b))\n",
    "plt.show()"
   ]
  },
  {
   "cell_type": "code",
   "execution_count": null,
   "metadata": {},
   "outputs": [],
   "source": []
  }
 ],
 "metadata": {
  "kernelspec": {
   "display_name": "Python 3",
   "language": "python",
   "name": "python3"
  },
  "language_info": {
   "codemirror_mode": {
    "name": "ipython",
    "version": 3
   },
   "file_extension": ".py",
   "mimetype": "text/x-python",
   "name": "python",
   "nbconvert_exporter": "python",
   "pygments_lexer": "ipython3",
   "version": "3.7.6"
  }
 },
 "nbformat": 4,
 "nbformat_minor": 4
}
