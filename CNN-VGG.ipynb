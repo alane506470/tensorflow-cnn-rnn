{
 "cells": [
  {
   "cell_type": "code",
   "execution_count": null,
   "metadata": {},
   "outputs": [],
   "source": [
    "from tensorflow import keras\n",
    "from tensorflow.python.keras import layers,Sequential,optimizers\n",
    "import tensorflow as tf\n",
    "import matplotlib.pyplot as plt\n",
    "from tensorflow.python.keras.optimizers import Adam"
   ]
  },
  {
   "cell_type": "code",
   "execution_count": null,
   "metadata": {},
   "outputs": [],
   "source": [
    "from solve_cudnn_error import *\n",
    "solve_cudnn_error()"
   ]
  },
  {
   "cell_type": "code",
   "execution_count": null,
   "metadata": {},
   "outputs": [],
   "source": [
    "(x,y),(x_test,y_test) = keras.datasets.cifar10.load_data()"
   ]
  },
  {
   "cell_type": "code",
   "execution_count": null,
   "metadata": {},
   "outputs": [],
   "source": [
    "plt.figure()\n",
    "plt.imshow(x[0])\n",
    "plt.colorbar()"
   ]
  },
  {
   "cell_type": "code",
   "execution_count": null,
   "metadata": {},
   "outputs": [],
   "source": [
    "vgg_layers = [\n",
    "    #cnn part\n",
    "    #stack1\n",
    "    layers.Conv2D(64,kernel_size=[3,3],padding='same',activation=tf.nn.relu),\n",
    "    layers.Conv2D(64,kernel_size=[3,3],padding='same',activation=tf.nn.relu),\n",
    "    layers.MaxPool2D(pool_size=[2,2],strides=2,padding='same'),\n",
    "    \n",
    "     #stack1\n",
    "    layers.Conv2D(64,kernel_size=[3,3],padding='same',activation=tf.nn.relu),\n",
    "    layers.Conv2D(64,kernel_size=[3,3],padding='same',activation=tf.nn.relu),\n",
    "    layers.MaxPool2D(pool_size=[2,2],strides=2,padding='same'),\n",
    "    \n",
    "     #stack1\n",
    "    layers.Conv2D(128,kernel_size=[3,3],padding='same',activation=tf.nn.relu),\n",
    "    layers.Conv2D(128,kernel_size=[3,3],padding='same',activation=tf.nn.relu),\n",
    "    layers.MaxPool2D(pool_size=[2,2],strides=2,padding='same'),\n",
    "    \n",
    "     #stack1\n",
    "    layers.Conv2D(256,kernel_size=[3,3],padding='same',activation=tf.nn.relu),\n",
    "    layers.Conv2D(256,kernel_size=[3,3],padding='same',activation=tf.nn.relu),\n",
    "    layers.Conv2D(256,kernel_size=[3,3],padding='same',activation=tf.nn.relu),\n",
    "    layers.MaxPool2D(pool_size=[2,2],strides=2,padding='same'),\n",
    "    \n",
    "     #stack1\n",
    "    layers.Conv2D(512,kernel_size=[3,3],padding='same',activation=tf.nn.relu),\n",
    "    layers.Conv2D(512,kernel_size=[3,3],padding='same',activation=tf.nn.relu),\n",
    "    layers.Conv2D(512,kernel_size=[3,3],padding='same',activation=tf.nn.relu),\n",
    "    layers.MaxPool2D(pool_size=[2,2],strides=2,padding='same'),\n",
    "]\n",
    "\n",
    "fc_layers =[\n",
    "    layers.Dense(256,activation=tf.nn.relu),\n",
    "    layers.Dense(256,activation=tf.nn.relu),\n",
    "    layers.Dense(10,activation=None)\n",
    "]"
   ]
  },
  {
   "cell_type": "code",
   "execution_count": null,
   "metadata": {},
   "outputs": [],
   "source": [
    "print(type(x))\n",
    "vgg = Sequential(vgg_layers)\n",
    "vgg.build(input_shape=[None,32,32,3])\n",
    "fc= Sequential(fc_layers)\n",
    "fc.build(input_shape=[None,512])\n",
    "\n",
    "optimizer = tf.keras.optimizers.Adam(lr=1e-4)"
   ]
  },
  {
   "cell_type": "code",
   "execution_count": null,
   "metadata": {},
   "outputs": [],
   "source": [
    "def feature_scale(x,y):\n",
    "    x = tf.cast(x,dtype=tf.float32)/255.\n",
    "    y = tf.cast(y,dtype=tf.int32)\n",
    "    print(type(x))\n",
    "    print(type(y))\n",
    "    return x,y"
   ]
  },
  {
   "cell_type": "code",
   "execution_count": null,
   "metadata": {},
   "outputs": [],
   "source": [
    "data = tf.data.Dataset.from_tensor_slices((x,y))\n",
    "data = data.map(feature_scale).shuffle(10000).batch(512)\n",
    "\n",
    "data_test = tf.data.Dataset.from_tensor_slices((x_test,y_test))\n",
    "data_test = data_test.map(feature_scale).batch(512) "
   ]
  },
  {
   "cell_type": "code",
   "execution_count": null,
   "metadata": {},
   "outputs": [],
   "source": [
    "#測試選代\n",
    "data_iter = iter(data)\n",
    "samples = next(data_iter)\n",
    "#print(samples)\n",
    "print(samples[0].shape,samples[1].shape)\n",
    "x,y = samples"
   ]
  },
  {
   "cell_type": "code",
   "execution_count": null,
   "metadata": {},
   "outputs": [],
   "source": [
    "variables = vgg.variables + fc.variables\n",
    "for i in range(2):\n",
    "    for step,(x,y) in enumerate(data):\n",
    "        with tf.GradientTape() as tape:\n",
    "            logits = vgg(x)\n",
    "            logits = tf.reshape(logits,[-1,512])\n",
    "            logits = fc(logits)\n",
    "            y_one_hot = tf.one_hot(y,depth=10)\n",
    "            loss = tf.losses.categorical_crossentropy(y_one_hot,logits,from_logits=True)\n",
    "            loss = tf.reduce_mean(loss)\n",
    "        grads=tape.gradient(loss,variables)\n",
    "        optimizer.apply_gradients(zip(grads,variables))\n",
    "        #print(step)\n",
    "        if step %100==0:\n",
    "            print(i,step,'loss:',float(loss))\n",
    "        total_loss = 0\n",
    "        total_num=0\n",
    "    for x,y in data_test:\n",
    "        logits = vgg(x)\n",
    "        logits = tf.reshape(logits,[-1,512])\n",
    "\n",
    "        logits = fc(logits)\n",
    "        prob = tf.nn.softmax(logits,axis=1)\n",
    "        pred = tf.argmax(prob,axis=1)\n",
    "\n",
    "        pred = tf.cast(pred,dtype=tf.int32)\n",
    "        correct = tf.equal(pred,y)\n",
    "\n",
    "        result = tf.reduce_sum(tf.cast(correct,dtype=tf.int32))\n",
    "\n",
    "        total_loss += int(result)\n",
    "        total_num += x.shape[0]\n",
    "\n",
    "    acc = total_loss/total_num\n",
    "    print(i,'acc:',acc)\n",
    "tf.keras.models.save_model(vgg,'vgg.h5')\n",
    "tf.keras.models.save_model(fc,'fc.h5')"
   ]
  },
  {
   "cell_type": "code",
   "execution_count": null,
   "metadata": {},
   "outputs": [],
   "source": [
    "import tensorflow as tf\n",
    "print(\"Num GPUs Available: \", len(tf.config.experimental.list_physical_devices('GPU')))\n"
   ]
  },
  {
   "cell_type": "code",
   "execution_count": null,
   "metadata": {},
   "outputs": [],
   "source": [
    "from tensorflow.python.client import device_lib\n",
    "\n",
    "def get_available_gpus():\n",
    "    local_device_protos = device_lib.list_local_devices()\n",
    "    return [x.name for x in local_device_protos if x.device_type == 'GPU']\n",
    "get_available_gpus()"
   ]
  },
  {
   "cell_type": "code",
   "execution_count": null,
   "metadata": {},
   "outputs": [],
   "source": [
    "!pip install tensorflow-gpu==2.0.0-beta1"
   ]
  },
  {
   "cell_type": "code",
   "execution_count": null,
   "metadata": {},
   "outputs": [],
   "source": [
    "#測試\n",
    "vgg = tf.keras.models.load_model('vgg.h5')\n",
    "fc= tf.keras.models.load_model('fc.h5')\n",
    "x_test=tf.cast(x_test,dtype=tf.float32)/255.\n",
    "logits=vgg(x_test)\n",
    "logits = tf.reshape(logits,[-1,512])\n",
    "logits = fc(logits)\n",
    "className=['airplane','automobile','bird','cat','deer','dog'\n",
    "          ,'frog','horse','ship','truck']\n",
    "i=0\n",
    "for i in range(25):\n",
    "    print(y_test[i])\n",
    "    #prob = tf.nn.softmax(logits,axis=1)\n",
    "    #print(prob)\n",
    "  \n",
    "    #print(logits.shape)\n",
    "    #print(className[y[i]])\n",
    "    #print(np.argmax())\n",
    "    i+=1"
   ]
  },
  {
   "cell_type": "code",
   "execution_count": null,
   "metadata": {},
   "outputs": [],
   "source": [
    "for i in range(2):\n",
    "    for step,(x,y) in enumerate(data):\n",
    "        with tf.GradientTape() as tape:\n",
    "            print(step)"
   ]
  },
  {
   "cell_type": "code",
   "execution_count": null,
   "metadata": {},
   "outputs": [],
   "source": [
    "def solve_cudnn_error():\n",
    "    gpus = tf.config.experimental.list_physical_devices('GPU')\n",
    "    if gpus:\n",
    "        try:\n",
    "            # Currently, memory growth needs to be the same across GPUs\n",
    "            for gpu in gpus:\n",
    "                tf.config.experimental.set_memory_growth(gpu, True)\n",
    "            logical_gpus = tf.config.experimental.list_logical_devices('GPU')\n",
    "            print(len(gpus), \"Physical GPUs,\", len(logical_gpus), \"Logical GPUs\")\n",
    "        except RuntimeError as e:\n",
    "            # Memory growth must be set before GPUs have been initialized\n",
    "            print(e)\n",
    "solve_cudnn_error()"
   ]
  },
  {
   "cell_type": "code",
   "execution_count": null,
   "metadata": {},
   "outputs": [],
   "source": [
    "gpus = tf.config.experimental.list_physical_devices('GPU')\n",
    "if gpus:\n",
    "  # Restrict TensorFlow to only use the first GPU\n",
    "  try:\n",
    "    tf.config.experimental.set_visible_devices(gpus[0], 'GPU')\n",
    "    logical_gpus = tf.config.experimental.list_logical_devices('GPU')\n",
    "    print(len(gpus), \"Physical GPUs,\", len(logical_gpus), \"Logical GPU\")\n",
    "  except RuntimeError as e:\n",
    "    # Visible devices must be set before GPUs have been initialized\n",
    "    print(e)"
   ]
  },
  {
   "cell_type": "code",
   "execution_count": null,
   "metadata": {},
   "outputs": [],
   "source": [
    "import os\n",
    "os.environ[\"CUDA_VISIBLE_DEVICES\"]=\"0,1\""
   ]
  },
  {
   "cell_type": "code",
   "execution_count": null,
   "metadata": {},
   "outputs": [],
   "source": [
    "#tf.debugging.set_log_device_placement(True)\n",
    "\n",
    "# Place tensors on the CPU\n",
    "with tf.device('/device:GPU:0'):\n",
    "  a = tf.constant([[1.0, 2.0,3], [4.0, 5.0,7]])\n",
    "  b = tf.constant([[1.0, 2.0], [3.0, 4.0], [5.0, 6.0]])\n",
    "\n",
    "c = tf.matmul(a, b)\n",
    "print(c)"
   ]
  },
  {
   "cell_type": "code",
   "execution_count": null,
   "metadata": {},
   "outputs": [],
   "source": []
  }
 ],
 "metadata": {
  "kernelspec": {
   "display_name": "Python 3",
   "language": "python",
   "name": "python3"
  },
  "language_info": {
   "codemirror_mode": {
    "name": "ipython",
    "version": 3
   },
   "file_extension": ".py",
   "mimetype": "text/x-python",
   "name": "python",
   "nbconvert_exporter": "python",
   "pygments_lexer": "ipython3",
   "version": "3.7.6"
  }
 },
 "nbformat": 4,
 "nbformat_minor": 4
}
